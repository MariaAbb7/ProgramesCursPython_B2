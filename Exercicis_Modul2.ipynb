{
 "cells": [
  {
   "cell_type": "markdown",
   "id": "ff8816df",
   "metadata": {},
   "source": [
    "MÒDUL 2"
   ]
  },
  {
   "cell_type": "markdown",
   "id": "ab12ffd4",
   "metadata": {},
   "source": [
    "Exercici1:\n",
    "Crea una llista que agrupi els mesos de l'any en trimestres. És a dir una llista amb 4 llistes dins."
   ]
  },
  {
   "cell_type": "code",
   "execution_count": 2,
   "id": "f7380365",
   "metadata": {},
   "outputs": [
    {
     "data": {
      "text/plain": [
       "[['gener', 'febrer', 'març'],\n",
       " ['abril', 'maig', 'juny'],\n",
       " ['juliol', 'agost', 'setembre'],\n",
       " ['octubre', 'novembre', 'dicembre']]"
      ]
     },
     "execution_count": 2,
     "metadata": {},
     "output_type": "execute_result"
    }
   ],
   "source": [
    "T1=[\"gener\",\"febrer\",\"març\"]\n",
    "T2=[\"abril\",\"maig\",\"juny\"]\n",
    "T3=[\"juliol\",\"agost\",\"setembre\"]\n",
    "T4=[\"octubre\",\"novembre\",\"dicembre\"]\n",
    "\n",
    "Trimestres_list=[T1,T2,T3,T4]\n",
    "Trimestres_list"
   ]
  },
  {
   "cell_type": "markdown",
   "id": "2874d388",
   "metadata": {},
   "source": [
    "Exercici 2\n",
    "Crea un codi que permeti accedir a:  \n",
    "-El segons mes del primer trimestre  \n",
    "-Els mesos del primer trimestre  \n",
    "-Setembre i octubre  "
   ]
  },
  {
   "cell_type": "code",
   "execution_count": null,
   "id": "483cef16",
   "metadata": {},
   "outputs": [
    {
     "data": {
      "text/plain": [
       "'febrer'"
      ]
     },
     "execution_count": 8,
     "metadata": {},
     "output_type": "execute_result"
    }
   ],
   "source": [
    "Trimestres_list[0][1] #el segon mes del primer trimestre\n"
   ]
  },
  {
   "cell_type": "code",
   "execution_count": 9,
   "id": "d2b44b98",
   "metadata": {},
   "outputs": [
    {
     "data": {
      "text/plain": [
       "['gener', 'febrer', 'març']"
      ]
     },
     "execution_count": 9,
     "metadata": {},
     "output_type": "execute_result"
    }
   ],
   "source": [
    "Trimestres_list[0] #el primer trimestre"
   ]
  },
  {
   "cell_type": "code",
   "execution_count": 13,
   "metadata": {},
   "outputs": [
    {
     "data": {
      "text/plain": [
       "'setembre y octubre'"
      ]
     },
     "execution_count": 13,
     "metadata": {},
     "output_type": "execute_result"
    }
   ],
   "source": [
    "Trimestres_list[2][2] +\" y \"+ Trimestres_list[3][0]"
   ]
  },
  {
   "cell_type": "markdown",
   "id": "55ea30b8",
   "metadata": {},
   "source": [
    "Exercici 3:  \n",
    "Crea una llista amb nombres desordenats i respon  \n",
    "-Quants nombres tens?  \n",
    "-Quantes vegades apareix el 3?   \n",
    "-Quantes vegades apareixen els nombres 3 i 4?  \n",
    "-Quin és el número més gran?  \n",
    "-Quins són els 3 números més petits?  \n",
    "-Quin és el rang d'aquesta llista?  \n"
   ]
  },
  {
   "cell_type": "code",
   "execution_count": 3,
   "id": "4c64f1c3",
   "metadata": {},
   "outputs": [
    {
     "data": {
      "text/plain": [
       "[1, 5, 8, 10, 3, 4, 8, 9, 10, 4]"
      ]
     },
     "execution_count": 3,
     "metadata": {},
     "output_type": "execute_result"
    }
   ],
   "source": [
    "import random\n",
    "lista_des=[random.randint(0,10) for x in range(10)]\n",
    "lista_des"
   ]
  },
  {
   "cell_type": "code",
   "execution_count": 3,
   "id": "ad560d69",
   "metadata": {},
   "outputs": [
    {
     "data": {
      "text/plain": [
       "1"
      ]
     },
     "execution_count": 3,
     "metadata": {},
     "output_type": "execute_result"
    }
   ],
   "source": [
    "lista_des.count(3) #comptar el nombre de vegades que aparteix el 6"
   ]
  },
  {
   "cell_type": "code",
   "execution_count": 4,
   "metadata": {},
   "outputs": [
    {
     "data": {
      "text/plain": [
       "1"
      ]
     },
     "execution_count": 4,
     "metadata": {},
     "output_type": "execute_result"
    }
   ],
   "source": [
    "lista_des.count(3) + lista_des.count(4)"
   ]
  },
  {
   "cell_type": "code",
   "execution_count": 5,
   "id": "4ff9d165",
   "metadata": {},
   "outputs": [
    {
     "data": {
      "text/plain": [
       "10"
      ]
     },
     "execution_count": 5,
     "metadata": {},
     "output_type": "execute_result"
    }
   ],
   "source": [
    "max(lista_des)"
   ]
  },
  {
   "cell_type": "code",
   "execution_count": 6,
   "id": "e3da281f",
   "metadata": {},
   "outputs": [
    {
     "data": {
      "text/plain": [
       "[1, 3, 6, 6, 7, 8, 8, 9, 9, 10]"
      ]
     },
     "execution_count": 6,
     "metadata": {},
     "output_type": "execute_result"
    }
   ],
   "source": [
    "lista_des.sort()\n",
    "lista_des"
   ]
  },
  {
   "cell_type": "code",
   "execution_count": 7,
   "id": "afe811c4",
   "metadata": {},
   "outputs": [
    {
     "name": "stdout",
     "output_type": "stream",
     "text": [
      "Els tres primers valors son: 1 3 6\n"
     ]
    }
   ],
   "source": [
    "print(\"Els tres primers valors son:\", lista_des[0],lista_des[1],lista_des[2])"
   ]
  },
  {
   "cell_type": "code",
   "execution_count": 8,
   "metadata": {},
   "outputs": [
    {
     "name": "stdout",
     "output_type": "stream",
     "text": [
      "El mínim valor és: 1 \n",
      "El valor màxim és: 10\n"
     ]
    }
   ],
   "source": [
    "print(\"El mínim valor és:\", min(lista_des), \"\\nEl valor màxim és:\", max(lista_des))"
   ]
  },
  {
   "cell_type": "markdown",
   "id": "6c9eca42",
   "metadata": {},
   "source": [
    "Exercici 4:  \n",
    "Crea un diccionari de la següent forma  \n",
    "-Afegeix alguna fruita  \n",
    "-Quant han costat les peres?  \n",
    "-Quantes fruites hem comprat?  \n",
    "-Quina és la fruita més cara?  "
   ]
  },
  {
   "cell_type": "code",
   "execution_count": 1,
   "id": "8fcecf8b",
   "metadata": {},
   "outputs": [
    {
     "data": {
      "text/plain": [
       "{'pomes': {'Qty': 5, '€': 0.42}, 'peres': {'Qty': 3, '€': 0.66}}"
      ]
     },
     "execution_count": 1,
     "metadata": {},
     "output_type": "execute_result"
    }
   ],
   "source": [
    "compra={\"pomes\":{\"Qty\":5,\"€\":0.42},\n",
    "       \"peres\":{\"Qty\":3,\"€\":0.66}}\n",
    "compra"
   ]
  },
  {
   "cell_type": "code",
   "execution_count": 2,
   "id": "0716266f",
   "metadata": {},
   "outputs": [
    {
     "data": {
      "text/plain": [
       "{'pomes': {'Qty': 5, '€': 0.42},\n",
       " 'peres': {'Qty': 3, '€': 0.66},\n",
       " 'kiwi': {'Qty': 4, '€': 3.95}}"
      ]
     },
     "execution_count": 2,
     "metadata": {},
     "output_type": "execute_result"
    }
   ],
   "source": [
    "compra[\"kiwi\"]={\"Qty\":4,\"€\":3.95}\n",
    "compra"
   ]
  },
  {
   "cell_type": "code",
   "execution_count": 3,
   "id": "ca35f5e8",
   "metadata": {},
   "outputs": [
    {
     "data": {
      "text/plain": [
       "1.98"
      ]
     },
     "execution_count": 3,
     "metadata": {},
     "output_type": "execute_result"
    }
   ],
   "source": [
    "compra[\"peres\"][\"Qty\"]*compra[\"peres\"][\"€\"]\n"
   ]
  },
  {
   "cell_type": "code",
   "execution_count": 28,
   "id": "da0d8c55",
   "metadata": {},
   "outputs": [
    {
     "data": {
      "text/plain": [
       "12"
      ]
     },
     "execution_count": 28,
     "metadata": {},
     "output_type": "execute_result"
    }
   ],
   "source": [
    "quantitat = compra[\"peres\"][\"Qty\"]+compra[\"pomes\"][\"Qty\"]+compra[\"kiwi\"][\"Qty\"]\n",
    "quantitat"
   ]
  },
  {
   "cell_type": "code",
   "execution_count": 5,
   "metadata": {},
   "outputs": [
    {
     "data": {
      "text/plain": [
       "3.95"
      ]
     },
     "execution_count": 5,
     "metadata": {},
     "output_type": "execute_result"
    }
   ],
   "source": [
    "preu_max = max(compra[\"peres\"][\"€\"],compra[\"pomes\"][\"€\"],compra[\"kiwi\"][\"€\"]\n",
    ")\n",
    "preu_max"
   ]
  },
  {
   "cell_type": "markdown",
   "metadata": {},
   "source": [
    "PART 2:\n",
    "Exercici 1:  \n",
    "Crear una funció per classificar Suspès,aprovat,notable i excel.lent"
   ]
  },
  {
   "cell_type": "code",
   "execution_count": 16,
   "metadata": {},
   "outputs": [
    {
     "data": {
      "text/plain": [
       "'aprovat'"
      ]
     },
     "execution_count": 16,
     "metadata": {},
     "output_type": "execute_result"
    }
   ],
   "source": [
    "def nota_categoria(nota):\n",
    "    if nota<5:\n",
    "        res=\"suspès\"\n",
    "    elif nota<7:\n",
    "        res=\"aprovat\"\n",
    "    elif nota<9:\n",
    "        res=\"notable\"\n",
    "    else:\n",
    "        res=\"excel.let\"\n",
    "    return res\n",
    "\n",
    "nota_categoria(6.5)\n",
    "\n",
    "\n"
   ]
  },
  {
   "cell_type": "markdown",
   "metadata": {},
   "source": [
    "Exercici 2:\n",
    "Crea una funció que et pregunti dos números. T'ha de mostrar un missatge dient si el primer és més gran que el segon, o el segon més gran que el primer"
   ]
  },
  {
   "cell_type": "code",
   "execution_count": 22,
   "metadata": {},
   "outputs": [
    {
     "name": "stdout",
     "output_type": "stream",
     "text": [
      "has escrito el número A: 3\n",
      "has escrito el número B: 3\n",
      "el nombre A 3 és igual que el nombre B 3\n"
     ]
    }
   ],
   "source": [
    "num_A= input(\"Introdueix un nombre:\")\n",
    "print(\"has escrito el número A:\", num_A)\n",
    "\n",
    "num_B= input(\"Introdueix un nombre:\")\n",
    "print(\"has escrito el número B:\", num_B)\n",
    "\n",
    "if num_A>num_B:\n",
    "    print(\"el nombre A\",num_A, \"és més gran que el nombre B\",num_B)\n",
    "elif num_A == num_B:\n",
    "    print(\"el nombre A\",num_A, \"és igual que el nombre B\",num_B)\n",
    "else :\n",
    "    print(\"el nombre A\",num_A, \"és més petit que el nombre B\",num_B)\n",
    "    \n"
   ]
  },
  {
   "cell_type": "code",
   "execution_count": 26,
   "metadata": {},
   "outputs": [
    {
     "name": "stdout",
     "output_type": "stream",
     "text": [
      "has escrito el número A: 5\n",
      "has escrito el número B: 6\n",
      "el nombre A 5 és més petit que el nombre B 6\n"
     ]
    }
   ],
   "source": [
    "def qui_es_mes_gran(num_A, num_B):\n",
    "\n",
    "    if num_A>num_B:\n",
    "        c = print(\"el nombre A\",num_A, \"és més gran que el nombre B\",num_B)\n",
    "    elif num_A == num_B:\n",
    "        c = print(\"el nombre A\",num_A, \"és igual que el nombre B\",num_B)\n",
    "    else :\n",
    "        c = print(\"el nombre A\",num_A, \"és més petit que el nombre B\",num_B)\n",
    "    return   c\n",
    "\n",
    "num_A= input(\"Introdueix un nombre:\")\n",
    "print(\"has escrito el número A:\", num_A)\n",
    "\n",
    "num_B= input(\"Introdueix un nombre:\")\n",
    "print(\"has escrito el número B:\", num_B)\n",
    "\n",
    "qui_es_mes_gran(num_A,num_B)"
   ]
  },
  {
   "cell_type": "markdown",
   "metadata": {},
   "source": [
    "Exercici 3:\n",
    "Crea una funció que et pregunti el teu nom i et demani un número. si el número és zero,ha de donar error.En cas contrari ha de repetir el nom tantes vegades com el número.\n"
   ]
  },
  {
   "cell_type": "code",
   "execution_count": 33,
   "metadata": {},
   "outputs": [
    {
     "name": "stdout",
     "output_type": "stream",
     "text": [
      "maria\n",
      "maria\n",
      "maria\n",
      "maria\n",
      "maria\n"
     ]
    }
   ],
   "source": [
    "\n",
    "def imprimir_nom(nom,num):\n",
    "    for i in range(num):\n",
    "        c= print(nom)\n",
    "    return c\n",
    "\n",
    "nom = input(\"Escriu el teu nom:\")\n",
    "num = int(input( \"Escriu un número:\"))\n",
    "if num == 0:\n",
    "    print(\"Error: el nombre no pot ser zero\")\n",
    "\n",
    "imprimir_nom(nom,num)\n"
   ]
  },
  {
   "cell_type": "markdown",
   "metadata": {},
   "source": [
    "Exercici 4:  \n",
    "Crea una funció que donada una llista, et digui si és simètrica o no. Si ho és quants elemenst té.\n",
    "AQUESTA NO M'HA SORTIT... NO ACABO DE VEURE COM FER-HO\n"
   ]
  },
  {
   "cell_type": "code",
   "execution_count": 65,
   "metadata": {},
   "outputs": [
    {
     "data": {
      "text/plain": [
       "[9, 10, 10, 6, 2, 6, 0, 1, 5, 3]"
      ]
     },
     "execution_count": 65,
     "metadata": {},
     "output_type": "execute_result"
    }
   ],
   "source": [
    "milista=[random.randint(0,10) for x in range(10)]\n",
    "milista\n"
   ]
  },
  {
   "cell_type": "code",
   "execution_count": 66,
   "metadata": {},
   "outputs": [
    {
     "data": {
      "text/plain": [
       "5.0"
      ]
     },
     "execution_count": 66,
     "metadata": {},
     "output_type": "execute_result"
    }
   ],
   "source": [
    "long=len(milista)\n",
    "long\n",
    "mitad=long/2\n",
    "mitad\n"
   ]
  },
  {
   "cell_type": "code",
   "execution_count": 67,
   "metadata": {},
   "outputs": [
    {
     "data": {
      "text/plain": [
       "[9, 10, 10, 6, 2]"
      ]
     },
     "execution_count": 67,
     "metadata": {},
     "output_type": "execute_result"
    }
   ],
   "source": [
    "milista1=milista[:int(mitad)]\n",
    "milista1"
   ]
  },
  {
   "cell_type": "code",
   "execution_count": 68,
   "metadata": {},
   "outputs": [
    {
     "data": {
      "text/plain": [
       "[3, 5, 1, 0, 6]"
      ]
     },
     "execution_count": 68,
     "metadata": {},
     "output_type": "execute_result"
    }
   ],
   "source": [
    "milista2=milista[int(mitad):]\n",
    "milista2_inv=list(reversed(milista2))\n",
    "milista2_inv"
   ]
  },
  {
   "cell_type": "code",
   "execution_count": 71,
   "metadata": {},
   "outputs": [
    {
     "ename": "IndexError",
     "evalue": "list index out of range",
     "output_type": "error",
     "traceback": [
      "\u001b[1;31m---------------------------------------------------------------------------\u001b[0m",
      "\u001b[1;31mIndexError\u001b[0m                                Traceback (most recent call last)",
      "\u001b[1;32mc:\\Users\\maria\\CursoPython_B2\\Exercicis_Modul2.ipynb Cell 34\u001b[0m line \u001b[0;36m3\n\u001b[0;32m      <a href='vscode-notebook-cell:/c%3A/Users/maria/CursoPython_B2/Exercicis_Modul2.ipynb#X43sZmlsZQ%3D%3D?line=0'>1</a>\u001b[0m \u001b[39mfor\u001b[39;00m index1 \u001b[39min\u001b[39;00m milista1:\n\u001b[0;32m      <a href='vscode-notebook-cell:/c%3A/Users/maria/CursoPython_B2/Exercicis_Modul2.ipynb#X43sZmlsZQ%3D%3D?line=1'>2</a>\u001b[0m   \u001b[39mfor\u001b[39;00m index2 \u001b[39min\u001b[39;00m milista2_inv:\n\u001b[1;32m----> <a href='vscode-notebook-cell:/c%3A/Users/maria/CursoPython_B2/Exercicis_Modul2.ipynb#X43sZmlsZQ%3D%3D?line=2'>3</a>\u001b[0m      \u001b[39mprint\u001b[39m(milista1[index1],milista2_inv[index2])\n\u001b[0;32m      <a href='vscode-notebook-cell:/c%3A/Users/maria/CursoPython_B2/Exercicis_Modul2.ipynb#X43sZmlsZQ%3D%3D?line=3'>4</a>\u001b[0m      \u001b[39mif\u001b[39;00m(milista1[index1] \u001b[39m!=\u001b[39m milista2_inv[index2]):\n\u001b[0;32m      <a href='vscode-notebook-cell:/c%3A/Users/maria/CursoPython_B2/Exercicis_Modul2.ipynb#X43sZmlsZQ%3D%3D?line=4'>5</a>\u001b[0m         \u001b[39mprint\u001b[39m(\u001b[39m\"\u001b[39m\u001b[39mFalse\u001b[39m\u001b[39m\"\u001b[39m)\n",
      "\u001b[1;31mIndexError\u001b[0m: list index out of range"
     ]
    }
   ],
   "source": [
    "for index1 in milista1:\n",
    "  for index2 in milista2_inv:\n",
    "     print(milista1[index1],milista2_inv[index2])\n",
    "     if(milista1[index1] != milista2_inv[index2]):\n",
    "        print(\"False\")\n",
    "     else:\n",
    "        print(\"true\")"
   ]
  },
  {
   "cell_type": "markdown",
   "metadata": {},
   "source": [
    "Exercici 5\n",
    "Crear una funció que donada una llista et digui quants números coincideixen amb la seva posició\n",
    "Comentari: quan ho faig amb la funció la llista només em torna un número, encara que puguin coincidir més. Si ho faig sense la funció em torna totes les posicions. "
   ]
  },
  {
   "cell_type": "code",
   "execution_count": 213,
   "metadata": {},
   "outputs": [
    {
     "data": {
      "text/plain": [
       "[0, 1, 2, 3, 14, 15, 16, 17, 18, 19]"
      ]
     },
     "execution_count": 213,
     "metadata": {},
     "output_type": "execute_result"
    }
   ],
   "source": [
    "milista=[random.randint(0,10) for x in range(10)]\n",
    "milista\n"
   ]
  },
  {
   "cell_type": "code",
   "execution_count": 214,
   "metadata": {},
   "outputs": [],
   "source": [
    "def coincidencia(lista):\n",
    "    lista_coin=[]\n",
    "    long=len(lista)\n",
    "    for i in range(long):\n",
    "        if(i == milista[i]):\n",
    "            lista_coin.append(i)\n",
    "            print(i)\n",
    "            return lista_coin\n",
    "\n"
   ]
  },
  {
   "cell_type": "code",
   "execution_count": 215,
   "metadata": {},
   "outputs": [
    {
     "name": "stdout",
     "output_type": "stream",
     "text": [
      "0\n"
     ]
    }
   ],
   "source": [
    "a = coincidencia(milista)\n",
    "\n"
   ]
  },
  {
   "cell_type": "code",
   "execution_count": 134,
   "metadata": {},
   "outputs": [
    {
     "data": {
      "text/plain": [
       "[9, 6, 1, 8, 6, 7, 8, 4, 1, 5]"
      ]
     },
     "execution_count": 134,
     "metadata": {},
     "output_type": "execute_result"
    }
   ],
   "source": [
    "milista=[random.randint(0,10) for x in range(10)]\n",
    "milista\n"
   ]
  },
  {
   "cell_type": "code",
   "execution_count": 135,
   "metadata": {},
   "outputs": [
    {
     "name": "stdout",
     "output_type": "stream",
     "text": [
      "no coincide el indice y el número de la posición: 0\n"
     ]
    },
    {
     "data": {
      "text/plain": [
       "[]"
      ]
     },
     "execution_count": 135,
     "metadata": {},
     "output_type": "execute_result"
    }
   ],
   "source": [
    "lista_coin= coincidencia(milista)\n",
    "lista_coin\n"
   ]
  },
  {
   "cell_type": "code",
   "execution_count": 216,
   "metadata": {},
   "outputs": [
    {
     "name": "stdout",
     "output_type": "stream",
     "text": [
      "coincide el número de la posición: 0\n",
      "coincide el número de la posición: 1\n",
      "coincide el número de la posición: 2\n",
      "coincide el número de la posición: 3\n",
      "no coincide el indice y el número de la posición: 4\n",
      "no coincide el indice y el número de la posición: 5\n",
      "no coincide el indice y el número de la posición: 6\n",
      "no coincide el indice y el número de la posición: 7\n",
      "no coincide el indice y el número de la posición: 8\n",
      "no coincide el indice y el número de la posición: 9\n"
     ]
    },
    {
     "data": {
      "text/plain": [
       "[0, 1, 2, 3]"
      ]
     },
     "execution_count": 216,
     "metadata": {},
     "output_type": "execute_result"
    }
   ],
   "source": [
    "long=len(milista)\n",
    "lista_con=[]\n",
    "for i in range(long):\n",
    "    if(i == milista[i]):\n",
    "        print(\"coincide el número de la posición:\",i)\n",
    "        lista_con.append(i)\n",
    "    else:\n",
    "        print(\"no coincide el indice y el número de la posición:\",i)    \n",
    "\n",
    "lista_con    "
   ]
  }
 ],
 "metadata": {
  "kernelspec": {
   "display_name": "Python 3 (ipykernel)",
   "language": "python",
   "name": "python3"
  },
  "language_info": {
   "codemirror_mode": {
    "name": "ipython",
    "version": 3
   },
   "file_extension": ".py",
   "mimetype": "text/x-python",
   "name": "python",
   "nbconvert_exporter": "python",
   "pygments_lexer": "ipython3",
   "version": "3.12.0"
  }
 },
 "nbformat": 4,
 "nbformat_minor": 5
}
